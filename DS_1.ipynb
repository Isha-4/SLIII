{
 "cells": [
  {
   "cell_type": "code",
   "execution_count": 52,
   "id": "37cec58b",
   "metadata": {},
   "outputs": [],
   "source": [
    "import pandas as pd\n",
    "import numpy as np\n",
    "from sklearn.preprocessing import MinMaxScaler, StandardScaler\n",
    "import statistics as st"
   ]
  },
  {
   "cell_type": "code",
   "execution_count": 53,
   "id": "a751e0d8",
   "metadata": {},
   "outputs": [
    {
     "name": "stdout",
     "output_type": "stream",
     "text": [
      "   symboling normalized-losses         make fuel-type aspiration num-of-doors  \\\n",
      "0          3                 ?  alfa-romero       gas        std          two   \n",
      "1          3                 ?  alfa-romero       gas        std          two   \n",
      "2          1                 ?  alfa-romero       gas        std          two   \n",
      "3          2               164         audi       gas        std         four   \n",
      "4          2               164         audi       gas        std         four   \n",
      "\n",
      "    body-style drive-wheels engine-location  wheel-base  ...  engine-size  \\\n",
      "0  convertible          rwd           front        88.6  ...          130   \n",
      "1  convertible          rwd           front        88.6  ...          130   \n",
      "2    hatchback          rwd           front        94.5  ...          152   \n",
      "3        sedan          fwd           front        99.8  ...          109   \n",
      "4        sedan          4wd           front        99.4  ...          136   \n",
      "\n",
      "   fuel-system  bore  stroke compression-ratio horsepower  peak-rpm city-mpg  \\\n",
      "0         mpfi  3.47    2.68               9.0        111      5000       21   \n",
      "1         mpfi  3.47    2.68               9.0        111      5000       21   \n",
      "2         mpfi  2.68    3.47               9.0        154      5000       19   \n",
      "3         mpfi  3.19     3.4              10.0        102      5500       24   \n",
      "4         mpfi  3.19     3.4               8.0        115      5500       18   \n",
      "\n",
      "  highway-mpg  price  \n",
      "0          27  13495  \n",
      "1          27  16500  \n",
      "2          26  16500  \n",
      "3          30  13950  \n",
      "4          22  17450  \n",
      "\n",
      "[5 rows x 26 columns]\n"
     ]
    }
   ],
   "source": [
    "path=r\"C:\\Users\\ISHA\\Desktop\\TE (6TH SEM)\\SL3\\Datasets\\Automobile_data.csv\"\n",
    "df=pd.read_csv(path)\n",
    "print(df.head())"
   ]
  },
  {
   "cell_type": "code",
   "execution_count": 54,
   "id": "883717ef",
   "metadata": {},
   "outputs": [
    {
     "name": "stdout",
     "output_type": "stream",
     "text": [
      "\n",
      "Data Information:\n",
      "<class 'pandas.core.frame.DataFrame'>\n",
      "RangeIndex: 205 entries, 0 to 204\n",
      "Data columns (total 26 columns):\n",
      " #   Column             Non-Null Count  Dtype  \n",
      "---  ------             --------------  -----  \n",
      " 0   symboling          205 non-null    int64  \n",
      " 1   normalized-losses  205 non-null    object \n",
      " 2   make               205 non-null    object \n",
      " 3   fuel-type          205 non-null    object \n",
      " 4   aspiration         205 non-null    object \n",
      " 5   num-of-doors       205 non-null    object \n",
      " 6   body-style         205 non-null    object \n",
      " 7   drive-wheels       205 non-null    object \n",
      " 8   engine-location    205 non-null    object \n",
      " 9   wheel-base         205 non-null    float64\n",
      " 10  length             205 non-null    float64\n",
      " 11  width              205 non-null    float64\n",
      " 12  height             205 non-null    float64\n",
      " 13  curb-weight        205 non-null    int64  \n",
      " 14  engine-type        205 non-null    object \n",
      " 15  num-of-cylinders   205 non-null    object \n",
      " 16  engine-size        205 non-null    int64  \n",
      " 17  fuel-system        205 non-null    object \n",
      " 18  bore               205 non-null    object \n",
      " 19  stroke             205 non-null    object \n",
      " 20  compression-ratio  205 non-null    float64\n",
      " 21  horsepower         205 non-null    object \n",
      " 22  peak-rpm           205 non-null    object \n",
      " 23  city-mpg           205 non-null    int64  \n",
      " 24  highway-mpg        205 non-null    int64  \n",
      " 25  price              205 non-null    object \n",
      "dtypes: float64(5), int64(5), object(16)\n",
      "memory usage: 41.8+ KB\n",
      "None\n"
     ]
    }
   ],
   "source": [
    "print(\"\\nData Information:\")\n",
    "print(df.info())"
   ]
  },
  {
   "cell_type": "code",
   "execution_count": 55,
   "id": "9759d8a4",
   "metadata": {},
   "outputs": [
    {
     "data": {
      "text/html": [
       "<div>\n",
       "<style scoped>\n",
       "    .dataframe tbody tr th:only-of-type {\n",
       "        vertical-align: middle;\n",
       "    }\n",
       "\n",
       "    .dataframe tbody tr th {\n",
       "        vertical-align: top;\n",
       "    }\n",
       "\n",
       "    .dataframe thead th {\n",
       "        text-align: right;\n",
       "    }\n",
       "</style>\n",
       "<table border=\"1\" class=\"dataframe\">\n",
       "  <thead>\n",
       "    <tr style=\"text-align: right;\">\n",
       "      <th></th>\n",
       "      <th>symboling</th>\n",
       "      <th>wheel-base</th>\n",
       "      <th>length</th>\n",
       "      <th>width</th>\n",
       "      <th>height</th>\n",
       "      <th>curb-weight</th>\n",
       "      <th>engine-size</th>\n",
       "      <th>compression-ratio</th>\n",
       "      <th>city-mpg</th>\n",
       "      <th>highway-mpg</th>\n",
       "    </tr>\n",
       "  </thead>\n",
       "  <tbody>\n",
       "    <tr>\n",
       "      <th>count</th>\n",
       "      <td>205.000000</td>\n",
       "      <td>205.000000</td>\n",
       "      <td>205.000000</td>\n",
       "      <td>205.000000</td>\n",
       "      <td>205.000000</td>\n",
       "      <td>205.000000</td>\n",
       "      <td>205.000000</td>\n",
       "      <td>205.000000</td>\n",
       "      <td>205.000000</td>\n",
       "      <td>205.000000</td>\n",
       "    </tr>\n",
       "    <tr>\n",
       "      <th>mean</th>\n",
       "      <td>0.834146</td>\n",
       "      <td>98.756585</td>\n",
       "      <td>174.049268</td>\n",
       "      <td>65.907805</td>\n",
       "      <td>53.724878</td>\n",
       "      <td>2555.565854</td>\n",
       "      <td>126.907317</td>\n",
       "      <td>10.142537</td>\n",
       "      <td>25.219512</td>\n",
       "      <td>30.751220</td>\n",
       "    </tr>\n",
       "    <tr>\n",
       "      <th>std</th>\n",
       "      <td>1.245307</td>\n",
       "      <td>6.021776</td>\n",
       "      <td>12.337289</td>\n",
       "      <td>2.145204</td>\n",
       "      <td>2.443522</td>\n",
       "      <td>520.680204</td>\n",
       "      <td>41.642693</td>\n",
       "      <td>3.972040</td>\n",
       "      <td>6.542142</td>\n",
       "      <td>6.886443</td>\n",
       "    </tr>\n",
       "    <tr>\n",
       "      <th>min</th>\n",
       "      <td>-2.000000</td>\n",
       "      <td>86.600000</td>\n",
       "      <td>141.100000</td>\n",
       "      <td>60.300000</td>\n",
       "      <td>47.800000</td>\n",
       "      <td>1488.000000</td>\n",
       "      <td>61.000000</td>\n",
       "      <td>7.000000</td>\n",
       "      <td>13.000000</td>\n",
       "      <td>16.000000</td>\n",
       "    </tr>\n",
       "    <tr>\n",
       "      <th>25%</th>\n",
       "      <td>0.000000</td>\n",
       "      <td>94.500000</td>\n",
       "      <td>166.300000</td>\n",
       "      <td>64.100000</td>\n",
       "      <td>52.000000</td>\n",
       "      <td>2145.000000</td>\n",
       "      <td>97.000000</td>\n",
       "      <td>8.600000</td>\n",
       "      <td>19.000000</td>\n",
       "      <td>25.000000</td>\n",
       "    </tr>\n",
       "    <tr>\n",
       "      <th>50%</th>\n",
       "      <td>1.000000</td>\n",
       "      <td>97.000000</td>\n",
       "      <td>173.200000</td>\n",
       "      <td>65.500000</td>\n",
       "      <td>54.100000</td>\n",
       "      <td>2414.000000</td>\n",
       "      <td>120.000000</td>\n",
       "      <td>9.000000</td>\n",
       "      <td>24.000000</td>\n",
       "      <td>30.000000</td>\n",
       "    </tr>\n",
       "    <tr>\n",
       "      <th>75%</th>\n",
       "      <td>2.000000</td>\n",
       "      <td>102.400000</td>\n",
       "      <td>183.100000</td>\n",
       "      <td>66.900000</td>\n",
       "      <td>55.500000</td>\n",
       "      <td>2935.000000</td>\n",
       "      <td>141.000000</td>\n",
       "      <td>9.400000</td>\n",
       "      <td>30.000000</td>\n",
       "      <td>34.000000</td>\n",
       "    </tr>\n",
       "    <tr>\n",
       "      <th>max</th>\n",
       "      <td>3.000000</td>\n",
       "      <td>120.900000</td>\n",
       "      <td>208.100000</td>\n",
       "      <td>72.300000</td>\n",
       "      <td>59.800000</td>\n",
       "      <td>4066.000000</td>\n",
       "      <td>326.000000</td>\n",
       "      <td>23.000000</td>\n",
       "      <td>49.000000</td>\n",
       "      <td>54.000000</td>\n",
       "    </tr>\n",
       "  </tbody>\n",
       "</table>\n",
       "</div>"
      ],
      "text/plain": [
       "        symboling  wheel-base      length       width      height  \\\n",
       "count  205.000000  205.000000  205.000000  205.000000  205.000000   \n",
       "mean     0.834146   98.756585  174.049268   65.907805   53.724878   \n",
       "std      1.245307    6.021776   12.337289    2.145204    2.443522   \n",
       "min     -2.000000   86.600000  141.100000   60.300000   47.800000   \n",
       "25%      0.000000   94.500000  166.300000   64.100000   52.000000   \n",
       "50%      1.000000   97.000000  173.200000   65.500000   54.100000   \n",
       "75%      2.000000  102.400000  183.100000   66.900000   55.500000   \n",
       "max      3.000000  120.900000  208.100000   72.300000   59.800000   \n",
       "\n",
       "       curb-weight  engine-size  compression-ratio    city-mpg  highway-mpg  \n",
       "count   205.000000   205.000000         205.000000  205.000000   205.000000  \n",
       "mean   2555.565854   126.907317          10.142537   25.219512    30.751220  \n",
       "std     520.680204    41.642693           3.972040    6.542142     6.886443  \n",
       "min    1488.000000    61.000000           7.000000   13.000000    16.000000  \n",
       "25%    2145.000000    97.000000           8.600000   19.000000    25.000000  \n",
       "50%    2414.000000   120.000000           9.000000   24.000000    30.000000  \n",
       "75%    2935.000000   141.000000           9.400000   30.000000    34.000000  \n",
       "max    4066.000000   326.000000          23.000000   49.000000    54.000000  "
      ]
     },
     "execution_count": 55,
     "metadata": {},
     "output_type": "execute_result"
    }
   ],
   "source": [
    "df.describe()"
   ]
  },
  {
   "cell_type": "code",
   "execution_count": 56,
   "id": "65a9592b",
   "metadata": {},
   "outputs": [
    {
     "name": "stdout",
     "output_type": "stream",
     "text": [
      "\n",
      "Missing Values:\n",
      "symboling            0\n",
      "normalized-losses    0\n",
      "make                 0\n",
      "fuel-type            0\n",
      "aspiration           0\n",
      "num-of-doors         0\n",
      "body-style           0\n",
      "drive-wheels         0\n",
      "engine-location      0\n",
      "wheel-base           0\n",
      "length               0\n",
      "width                0\n",
      "height               0\n",
      "curb-weight          0\n",
      "engine-type          0\n",
      "num-of-cylinders     0\n",
      "engine-size          0\n",
      "fuel-system          0\n",
      "bore                 0\n",
      "stroke               0\n",
      "compression-ratio    0\n",
      "horsepower           0\n",
      "peak-rpm             0\n",
      "city-mpg             0\n",
      "highway-mpg          0\n",
      "price                0\n",
      "dtype: int64\n"
     ]
    }
   ],
   "source": [
    "missing_values = df.isnull().sum()\n",
    "print(\"\\nMissing Values:\")\n",
    "print(missing_values)"
   ]
  },
  {
   "cell_type": "code",
   "execution_count": 57,
   "id": "6eec0777",
   "metadata": {},
   "outputs": [
    {
     "data": {
      "text/plain": [
       "0      48.8\n",
       "1      48.8\n",
       "2      52.4\n",
       "3      54.3\n",
       "4      54.3\n",
       "       ... \n",
       "200    55.5\n",
       "201    55.5\n",
       "202    55.5\n",
       "203    55.5\n",
       "204    55.5\n",
       "Name: height, Length: 205, dtype: float64"
      ]
     },
     "execution_count": 57,
     "metadata": {},
     "output_type": "execute_result"
    }
   ],
   "source": [
    "df['length'].fillna(df['length'].median())\n",
    "df['width'].fillna(df['width'].median())\n",
    "df['height'].fillna(df['height'].median())"
   ]
  },
  {
   "cell_type": "code",
   "execution_count": 58,
   "id": "7022add1",
   "metadata": {},
   "outputs": [],
   "source": [
    "df['normalized-losses']=df['normalized-losses'].replace(to_replace='NaN', value=None)\n",
    "df['normalized-losses'] = df['normalized-losses'].fillna(value='Missing')"
   ]
  },
  {
   "cell_type": "code",
   "execution_count": 59,
   "id": "3bbd5a21",
   "metadata": {},
   "outputs": [
    {
     "data": {
      "text/plain": [
       "symboling            0\n",
       "normalized-losses    0\n",
       "make                 0\n",
       "fuel-type            0\n",
       "aspiration           0\n",
       "num-of-doors         0\n",
       "body-style           0\n",
       "drive-wheels         0\n",
       "engine-location      0\n",
       "wheel-base           0\n",
       "length               0\n",
       "width                0\n",
       "height               0\n",
       "curb-weight          0\n",
       "engine-type          0\n",
       "num-of-cylinders     0\n",
       "engine-size          0\n",
       "fuel-system          0\n",
       "bore                 0\n",
       "stroke               0\n",
       "compression-ratio    0\n",
       "horsepower           0\n",
       "peak-rpm             0\n",
       "city-mpg             0\n",
       "highway-mpg          0\n",
       "price                0\n",
       "dtype: int64"
      ]
     },
     "execution_count": 59,
     "metadata": {},
     "output_type": "execute_result"
    }
   ],
   "source": [
    "df.isnull().sum()"
   ]
  },
  {
   "cell_type": "code",
   "execution_count": 60,
   "id": "bbdd750d",
   "metadata": {},
   "outputs": [
    {
     "data": {
      "text/plain": [
       "symboling              int64\n",
       "normalized-losses     object\n",
       "make                  object\n",
       "fuel-type             object\n",
       "aspiration            object\n",
       "num-of-doors          object\n",
       "body-style            object\n",
       "drive-wheels          object\n",
       "engine-location       object\n",
       "wheel-base           float64\n",
       "length               float64\n",
       "width                float64\n",
       "height               float64\n",
       "curb-weight            int64\n",
       "engine-type           object\n",
       "num-of-cylinders      object\n",
       "engine-size            int64\n",
       "fuel-system           object\n",
       "bore                  object\n",
       "stroke                object\n",
       "compression-ratio    float64\n",
       "horsepower            object\n",
       "peak-rpm              object\n",
       "city-mpg               int64\n",
       "highway-mpg            int64\n",
       "price                 object\n",
       "dtype: object"
      ]
     },
     "execution_count": 60,
     "metadata": {},
     "output_type": "execute_result"
    }
   ],
   "source": [
    "df.dtypes"
   ]
  },
  {
   "cell_type": "code",
   "execution_count": 61,
   "id": "004990ea-1319-4078-b85b-13c4b599cf6c",
   "metadata": {},
   "outputs": [],
   "source": [
    "categorical = ['make', 'aspiration', 'bore', 'stroke', 'price', 'normalized-losses']\n",
    "for col in categorical:\n",
    "    df[col] = df[col].astype('category')"
   ]
  },
  {
   "cell_type": "code",
   "execution_count": 62,
   "id": "e32454f8",
   "metadata": {},
   "outputs": [
    {
     "name": "stdout",
     "output_type": "stream",
     "text": [
      "\n",
      "Data Types After Conversion:\n",
      "symboling               int64\n",
      "normalized-losses    category\n",
      "make                 category\n",
      "fuel-type              object\n",
      "aspiration           category\n",
      "num-of-doors           object\n",
      "body-style             object\n",
      "drive-wheels           object\n",
      "engine-location        object\n",
      "wheel-base            float64\n",
      "length                float64\n",
      "width                 float64\n",
      "height                float64\n",
      "curb-weight             int64\n",
      "engine-type            object\n",
      "num-of-cylinders       object\n",
      "engine-size             int64\n",
      "fuel-system            object\n",
      "bore                 category\n",
      "stroke               category\n",
      "compression-ratio     float64\n",
      "horsepower             object\n",
      "peak-rpm               object\n",
      "city-mpg                int64\n",
      "highway-mpg             int64\n",
      "price                category\n",
      "dtype: object\n"
     ]
    }
   ],
   "source": [
    "print(\"\\nData Types After Conversion:\")\n",
    "print(df.dtypes)"
   ]
  },
  {
   "cell_type": "code",
   "execution_count": 63,
   "id": "68ea307c",
   "metadata": {},
   "outputs": [
    {
     "name": "stdout",
     "output_type": "stream",
     "text": [
      "\n",
      "Updated Data Information:\n",
      "<class 'pandas.core.frame.DataFrame'>\n",
      "RangeIndex: 205 entries, 0 to 204\n",
      "Data columns (total 26 columns):\n",
      " #   Column             Non-Null Count  Dtype   \n",
      "---  ------             --------------  -----   \n",
      " 0   symboling          205 non-null    int64   \n",
      " 1   normalized-losses  205 non-null    category\n",
      " 2   make               205 non-null    category\n",
      " 3   fuel-type          205 non-null    object  \n",
      " 4   aspiration         205 non-null    category\n",
      " 5   num-of-doors       205 non-null    object  \n",
      " 6   body-style         205 non-null    object  \n",
      " 7   drive-wheels       205 non-null    object  \n",
      " 8   engine-location    205 non-null    object  \n",
      " 9   wheel-base         205 non-null    float64 \n",
      " 10  length             205 non-null    float64 \n",
      " 11  width              205 non-null    float64 \n",
      " 12  height             205 non-null    float64 \n",
      " 13  curb-weight        205 non-null    int64   \n",
      " 14  engine-type        205 non-null    object  \n",
      " 15  num-of-cylinders   205 non-null    object  \n",
      " 16  engine-size        205 non-null    int64   \n",
      " 17  fuel-system        205 non-null    object  \n",
      " 18  bore               205 non-null    category\n",
      " 19  stroke             205 non-null    category\n",
      " 20  compression-ratio  205 non-null    float64 \n",
      " 21  horsepower         205 non-null    object  \n",
      " 22  peak-rpm           205 non-null    object  \n",
      " 23  city-mpg           205 non-null    int64   \n",
      " 24  highway-mpg        205 non-null    int64   \n",
      " 25  price              205 non-null    category\n",
      "dtypes: category(6), float64(5), int64(5), object(10)\n",
      "memory usage: 45.1+ KB\n",
      "None\n"
     ]
    }
   ],
   "source": [
    "df.columns = df.columns.str.replace(' ', '_')\n",
    "print(\"\\nUpdated Data Information:\")\n",
    "print(df.info())"
   ]
  },
  {
   "cell_type": "code",
   "execution_count": 64,
   "id": "37ae1748",
   "metadata": {},
   "outputs": [],
   "source": [
    "numeric_cols = df.select_dtypes(include=['int64', 'float64'])"
   ]
  },
  {
   "cell_type": "code",
   "execution_count": 65,
   "id": "7fdb300a",
   "metadata": {},
   "outputs": [],
   "source": [
    "Q1 = numeric_cols.quantile(0.25)\n",
    "Q3 = numeric_cols.quantile(0.75)\n",
    "IQR = Q3 - Q1"
   ]
  },
  {
   "cell_type": "code",
   "execution_count": 66,
   "id": "3d3ca693",
   "metadata": {},
   "outputs": [
    {
     "name": "stdout",
     "output_type": "stream",
     "text": [
      "\n",
      "Outliers Detected:\n",
      "     symboling  wheel-base  length  width  height  curb-weight  engine-size  \\\n",
      "0        False       False   False  False   False        False        False   \n",
      "1        False       False   False  False   False        False        False   \n",
      "2        False       False   False  False   False        False        False   \n",
      "3        False       False   False  False   False        False        False   \n",
      "4        False       False   False  False   False        False        False   \n",
      "..         ...         ...     ...    ...     ...          ...          ...   \n",
      "200      False       False   False  False   False        False        False   \n",
      "201      False       False   False  False   False        False        False   \n",
      "202      False       False   False  False   False        False        False   \n",
      "203      False       False   False  False   False        False        False   \n",
      "204      False       False   False  False   False        False        False   \n",
      "\n",
      "     compression-ratio  city-mpg  highway-mpg  \n",
      "0                False     False        False  \n",
      "1                False     False        False  \n",
      "2                False     False        False  \n",
      "3                False     False        False  \n",
      "4                False     False        False  \n",
      "..                 ...       ...          ...  \n",
      "200              False     False        False  \n",
      "201              False     False        False  \n",
      "202              False     False        False  \n",
      "203               True     False        False  \n",
      "204              False     False        False  \n",
      "\n",
      "[205 rows x 10 columns]\n"
     ]
    }
   ],
   "source": [
    "outliers = (numeric_cols < (Q1 - 1.5 * IQR)) | (numeric_cols > (Q3 + 1.5 * IQR))\n",
    "print(\"\\nOutliers Detected:\")\n",
    "print(outliers)"
   ]
  },
  {
   "cell_type": "code",
   "execution_count": 67,
   "id": "211a5502",
   "metadata": {},
   "outputs": [],
   "source": [
    "df_cleaned = df.copy()\n",
    "df_cleaned[numeric_cols.columns] = df_cleaned[numeric_cols.columns].where(~outliers, np.nan)\n",
    "df_cleaned.dropna(inplace=True)"
   ]
  },
  {
   "cell_type": "code",
   "execution_count": 68,
   "id": "3a4e2eec",
   "metadata": {},
   "outputs": [
    {
     "name": "stdout",
     "output_type": "stream",
     "text": [
      "\n",
      "Cleaned Data Information:\n",
      "<class 'pandas.core.frame.DataFrame'>\n",
      "Index: 162 entries, 0 to 204\n",
      "Data columns (total 26 columns):\n",
      " #   Column             Non-Null Count  Dtype   \n",
      "---  ------             --------------  -----   \n",
      " 0   symboling          162 non-null    int64   \n",
      " 1   normalized-losses  162 non-null    category\n",
      " 2   make               162 non-null    category\n",
      " 3   fuel-type          162 non-null    object  \n",
      " 4   aspiration         162 non-null    category\n",
      " 5   num-of-doors       162 non-null    object  \n",
      " 6   body-style         162 non-null    object  \n",
      " 7   drive-wheels       162 non-null    object  \n",
      " 8   engine-location    162 non-null    object  \n",
      " 9   wheel-base         162 non-null    float64 \n",
      " 10  length             162 non-null    float64 \n",
      " 11  width              162 non-null    float64 \n",
      " 12  height             162 non-null    float64 \n",
      " 13  curb-weight        162 non-null    int64   \n",
      " 14  engine-type        162 non-null    object  \n",
      " 15  num-of-cylinders   162 non-null    object  \n",
      " 16  engine-size        162 non-null    float64 \n",
      " 17  fuel-system        162 non-null    object  \n",
      " 18  bore               162 non-null    category\n",
      " 19  stroke             162 non-null    category\n",
      " 20  compression-ratio  162 non-null    float64 \n",
      " 21  horsepower         162 non-null    object  \n",
      " 22  peak-rpm           162 non-null    object  \n",
      " 23  city-mpg           162 non-null    float64 \n",
      " 24  highway-mpg        162 non-null    float64 \n",
      " 25  price              162 non-null    category\n",
      "dtypes: category(6), float64(8), int64(2), object(10)\n",
      "memory usage: 39.2+ KB\n",
      "None\n"
     ]
    }
   ],
   "source": [
    "print(\"\\nCleaned Data Information:\")\n",
    "print(df_cleaned.info())"
   ]
  },
  {
   "cell_type": "code",
   "execution_count": 69,
   "id": "76247e6f",
   "metadata": {},
   "outputs": [],
   "source": [
    "minmax_scaler = MinMaxScaler()\n",
    "df_cleaned[\"length_scaled\"] = minmax_scaler.fit_transform(df_cleaned[[\"length\"]])\n",
    "df_cleaned[\"width_scaled\"] = minmax_scaler.fit_transform(df_cleaned[[\"width\"]])\n",
    "df_cleaned[\"height_scaled\"] = minmax_scaler.fit_transform(df_cleaned[[\"height\"]])"
   ]
  },
  {
   "cell_type": "code",
   "execution_count": 72,
   "id": "4c5f3631-e57d-4ebf-ae1c-f62c290b631f",
   "metadata": {},
   "outputs": [
    {
     "name": "stdout",
     "output_type": "stream",
     "text": [
      "\n",
      "Correlation of MinMaxScaled Columns:\n",
      "               length_scaled  width_scaled  height_scaled\n",
      "length_scaled       1.000000      0.808283       0.489125\n",
      "width_scaled        0.808283      1.000000       0.261132\n",
      "height_scaled       0.489125      0.261132       1.000000\n"
     ]
    }
   ],
   "source": [
    "print(\"\\nCorrelation of MinMaxScaled Columns:\")\n",
    "print(df_cleaned[['length_scaled', 'width_scaled', 'height_scaled']].corr())"
   ]
  },
  {
   "cell_type": "code",
   "execution_count": 73,
   "id": "f5666fc1-6091-499a-afcc-849351f5a13f",
   "metadata": {},
   "outputs": [],
   "source": [
    "standard_scaler = StandardScaler()\n",
    "df_cleaned[\"length_standardized\"] = standard_scaler.fit_transform(df_cleaned[[\"length\"]])\n",
    "df_cleaned[\"width_standardized\"] = standard_scaler.fit_transform(df_cleaned[[\"width\"]])\n",
    "df_cleaned[\"height_standardized\"] = standard_scaler.fit_transform(df_cleaned[[\"height\"]])"
   ]
  },
  {
   "cell_type": "code",
   "execution_count": 74,
   "id": "6a0746ed-c3ac-4456-994b-ad4e3f058965",
   "metadata": {},
   "outputs": [
    {
     "name": "stdout",
     "output_type": "stream",
     "text": [
      "\n",
      "Correlation of Standardized Columns:\n",
      "                     length_standardized  width_standardized  \\\n",
      "length_standardized             1.000000            0.808283   \n",
      "width_standardized              0.808283            1.000000   \n",
      "height_standardized             0.489125            0.261132   \n",
      "\n",
      "                     height_standardized  \n",
      "length_standardized             0.489125  \n",
      "width_standardized              0.261132  \n",
      "height_standardized             1.000000  \n"
     ]
    }
   ],
   "source": [
    "print(\"\\nCorrelation of Standardized Columns:\")\n",
    "print(df_cleaned[['length_standardized', 'width_standardized', 'height_standardized']].corr())"
   ]
  },
  {
   "cell_type": "code",
   "execution_count": 75,
   "id": "408025ff-e07f-46e8-a8a6-e6f32f13f760",
   "metadata": {},
   "outputs": [
    {
     "name": "stdout",
     "output_type": "stream",
     "text": [
      "\n",
      "First 10 Rows of Cleaned and Transformed Data:\n",
      "   symboling normalized-losses         make fuel-type aspiration num-of-doors  \\\n",
      "0          3                 ?  alfa-romero       gas        std          two   \n",
      "1          3                 ?  alfa-romero       gas        std          two   \n",
      "2          1                 ?  alfa-romero       gas        std          two   \n",
      "3          2               164         audi       gas        std         four   \n",
      "4          2               164         audi       gas        std         four   \n",
      "\n",
      "    body-style drive-wheels engine-location  wheel-base  ...  peak-rpm  \\\n",
      "0  convertible          rwd           front        88.6  ...      5000   \n",
      "1  convertible          rwd           front        88.6  ...      5000   \n",
      "2    hatchback          rwd           front        94.5  ...      5000   \n",
      "3        sedan          fwd           front        99.8  ...      5500   \n",
      "4        sedan          4wd           front        99.4  ...      5500   \n",
      "\n",
      "   city-mpg  highway-mpg  price length_scaled width_scaled  height_scaled  \\\n",
      "0      21.0         27.0  13495      0.445672     0.323944       0.000000   \n",
      "1      21.0         27.0  16500      0.445672     0.323944       0.000000   \n",
      "2      19.0         26.0  16500      0.489871     0.521127       0.327273   \n",
      "3      24.0         30.0  13950      0.589319     0.619718       0.500000   \n",
      "4      18.0         22.0  17450      0.589319     0.647887       0.500000   \n",
      "\n",
      "  length_standardized width_standardized height_standardized  \n",
      "0           -0.272845          -0.822618           -2.025873  \n",
      "1           -0.272845          -0.822618           -2.025873  \n",
      "2           -0.043726           0.117280           -0.495447  \n",
      "3            0.471793           0.587229            0.312278  \n",
      "4            0.471793           0.721500            0.312278  \n",
      "\n",
      "[5 rows x 32 columns]\n"
     ]
    }
   ],
   "source": [
    "print(\"\\nFirst 10 Rows of Cleaned and Transformed Data:\")\n",
    "print(df_cleaned.head(5))"
   ]
  },
  {
   "cell_type": "code",
   "execution_count": null,
   "id": "907650c0-b461-4998-9f2c-e39c496de9fe",
   "metadata": {},
   "outputs": [],
   "source": []
  }
 ],
 "metadata": {
  "kernelspec": {
   "display_name": "Python 3 (ipykernel)",
   "language": "python",
   "name": "python3"
  },
  "language_info": {
   "codemirror_mode": {
    "name": "ipython",
    "version": 3
   },
   "file_extension": ".py",
   "mimetype": "text/x-python",
   "name": "python",
   "nbconvert_exporter": "python",
   "pygments_lexer": "ipython3",
   "version": "3.12.10"
  }
 },
 "nbformat": 4,
 "nbformat_minor": 5
}
